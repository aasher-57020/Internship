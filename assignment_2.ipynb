{
  "nbformat": 4,
  "nbformat_minor": 0,
  "metadata": {
    "colab": {
      "provenance": [],
      "authorship_tag": "ABX9TyO9XAjN0S1mUipUTV0ZIFh2",
      "include_colab_link": true
    },
    "kernelspec": {
      "name": "python3",
      "display_name": "Python 3"
    },
    "language_info": {
      "name": "python"
    }
  },
  "cells": [
    {
      "cell_type": "markdown",
      "metadata": {
        "id": "view-in-github",
        "colab_type": "text"
      },
      "source": [
        "<a href=\"https://colab.research.google.com/github/aasher-57020/Internship/blob/main/assignment_2.ipynb\" target=\"_parent\"><img src=\"https://colab.research.google.com/assets/colab-badge.svg\" alt=\"Open In Colab\"/></a>"
      ]
    },
    {
      "cell_type": "markdown",
      "source": [
        "AND Gate"
      ],
      "metadata": {
        "id": "3VeKiXpa7FMv"
      }
    },
    {
      "cell_type": "code",
      "execution_count": null,
      "metadata": {
        "colab": {
          "base_uri": "https://localhost:8080/"
        },
        "id": "Q65kD3RV5BM7",
        "outputId": "165f011a-850b-4596-b352-020b7fef7b7f"
      },
      "outputs": [
        {
          "output_type": "stream",
          "name": "stdout",
          "text": [
            "[0 0 0 1]\n",
            "[[2. 2.]] [-2.]\n"
          ]
        }
      ],
      "source": [
        "#and\n",
        "from sklearn.linear_model import Perceptron\n",
        "x_train=[[0,0],[0,1],[1,0],[1,1]]\n",
        "y_train=[0,0,0,1]\n",
        "\n",
        "clf=Perceptron(tol=1e-3, random_state=0)\n",
        "clf.fit(x_train,y_train)\n",
        "\n",
        "y_pred=clf.predict(x_train)\n",
        "print(y_pred)\n",
        "print(clf.coef_,clf.intercept_)"
      ]
    },
    {
      "cell_type": "markdown",
      "source": [
        "**OR Gate**"
      ],
      "metadata": {
        "id": "C5AxnCXd6-2F"
      }
    },
    {
      "cell_type": "code",
      "source": [
        "#or\n",
        "from sklearn.linear_model import Perceptron\n",
        "x_train=[[0,0],[0,1],[1,0],[1,1]]\n",
        "y_train=[0,1,1,1]\n",
        "\n",
        "clf=Perceptron(tol=1e-3, random_state=0)\n",
        "clf.fit(x_train,y_train)\n",
        "\n",
        "y_pred=clf.predict(x_train)\n",
        "print(y_pred)\n",
        "print(clf.coef_,clf.intercept_)"
      ],
      "metadata": {
        "colab": {
          "base_uri": "https://localhost:8080/"
        },
        "id": "qmQUmkppDD2G",
        "outputId": "e86cdb08-7815-4838-b5e2-69897ca82ced"
      },
      "execution_count": null,
      "outputs": [
        {
          "output_type": "stream",
          "name": "stdout",
          "text": [
            "[0 1 1 1]\n",
            "[[2. 2.]] [-1.]\n"
          ]
        }
      ]
    },
    {
      "cell_type": "markdown",
      "source": [
        "**NAND Gate**"
      ],
      "metadata": {
        "id": "R4ctIyho7ePV"
      }
    },
    {
      "cell_type": "code",
      "source": [
        "#nand\n",
        "from sklearn.linear_model import Perceptron\n",
        "x_train=[[0,0],[0,1],[1,0],[1,1]]\n",
        "y_train=[1,1,1,0]\n",
        "\n",
        "clf=Perceptron(tol=1e-3, random_state=42)\n",
        "clf.fit(x_train,y_train)\n",
        "\n",
        "y_pred=clf.predict(x_train)\n",
        "print(y_pred)\n",
        "print(clf.coef_,clf.intercept_)"
      ],
      "metadata": {
        "colab": {
          "base_uri": "https://localhost:8080/"
        },
        "id": "ifBZOFkUDQZu",
        "outputId": "2f37fbd2-735c-4347-9ee2-8868c9299ccf"
      },
      "execution_count": null,
      "outputs": [
        {
          "output_type": "stream",
          "name": "stdout",
          "text": [
            "[1 1 1 0]\n",
            "[[-2. -2.]] [3.]\n"
          ]
        }
      ]
    },
    {
      "cell_type": "markdown",
      "source": [
        "**XNOR Gate**"
      ],
      "metadata": {
        "id": "0n1Kc3bV7anF"
      }
    },
    {
      "cell_type": "code",
      "source": [
        "#xnor\n",
        "from sklearn.linear_model import Perceptron\n",
        "x1_train=[[0,0],[0,1]]\n",
        "y1_train=[1,0]\n",
        "x2_train=[[1,0],[1,1]]\n",
        "y2_train=[0,1]\n",
        "\n",
        "clf1=Perceptron(tol=1e-2, random_state=0)\n",
        "clf1.fit(x1_train,y1_train)\n",
        "\n",
        "clf2=Perceptron(tol=1e+3, random_state=0)\n",
        "clf2.fit(x2_train,y2_train)\n",
        "\n",
        "y1_pred=clf1.predict(x1_train)\n",
        "print(y1_pred)\n",
        "\n",
        "y2_pred=clf2.predict(x2_train)\n",
        "print(y2_pred)\n",
        "\n",
        "print(clf1.coef_,clf1.intercept_)\n",
        "print(clf2.coef_,clf2.intercept_)"
      ],
      "metadata": {
        "colab": {
          "base_uri": "https://localhost:8080/"
        },
        "id": "rnpGcD-MDj42",
        "outputId": "f6b1e9e0-c3ff-4325-ac4c-17b6ecf6097a"
      },
      "execution_count": null,
      "outputs": [
        {
          "output_type": "stream",
          "name": "stdout",
          "text": [
            "[1 0]\n",
            "[0 1]\n",
            "[[ 0. -2.]] [1.]\n",
            "[[-1.  3.]] [-1.]\n"
          ]
        }
      ]
    },
    {
      "cell_type": "markdown",
      "source": [
        "**XOR Gate**"
      ],
      "metadata": {
        "id": "SxVa0ZG87mDl"
      }
    },
    {
      "cell_type": "code",
      "source": [
        "#xor\n",
        "from sklearn.linear_model import Perceptron\n",
        "x1_train=[[0,0],[0,1]]\n",
        "y1_train=[0,1]\n",
        "x2_train=[[1,0],[1,1]]\n",
        "y2_train=[1,0]\n",
        "\n",
        "clf1=Perceptron(tol=1e-2, random_state=0)\n",
        "clf1.fit(x1_train,y1_train)\n",
        "\n",
        "clf2=Perceptron(tol=1e+3, random_state=0)\n",
        "clf2.fit(x2_train,y2_train)\n",
        "\n",
        "y1_pred=clf1.predict(x1_train)\n",
        "print(y1_pred)\n",
        "\n",
        "y2_pred=clf2.predict(x2_train)\n",
        "print(y2_pred)\n",
        "\n",
        "print(clf1.coef_,clf1.intercept_)\n",
        "print(clf2.coef_,clf2.intercept_)"
      ],
      "metadata": {
        "id": "k-I8FabFFUHN",
        "colab": {
          "base_uri": "https://localhost:8080/"
        },
        "outputId": "2d623d42-ebb6-48b2-b235-568d5a7cd110"
      },
      "execution_count": null,
      "outputs": [
        {
          "output_type": "stream",
          "name": "stdout",
          "text": [
            "[0 1]\n",
            "[1 0]\n",
            "[[0. 2.]] [-1.]\n",
            "[[ 1. -3.]] [1.]\n"
          ]
        }
      ]
    },
    {
      "cell_type": "markdown",
      "source": [
        "Predicting "
      ],
      "metadata": {
        "id": "f5FrBK6JRnoJ"
      }
    },
    {
      "cell_type": "code",
      "source": [
        "from sklearn.neural_network import MLPClassifier\n",
        "x_train=[[165,52],[153,50],[160,48],[177,72],[185,68],[174,85],[170,60],[165,58]]\n",
        "y_train=[0,0,0,1,1,1,1,1]\n",
        "\n",
        "clf=MLPClassifier(solver='adam',alpha=1e-5,activation='relu',hidden_layer_sizes=(120),random_state=1)\n",
        "\n",
        "clf.fit(x_train,y_train)\n",
        "y_pred=clf.predict([[170,55]])\n",
        "print(y_pred)"
      ],
      "metadata": {
        "colab": {
          "base_uri": "https://localhost:8080/"
        },
        "id": "qMM99YOjLozA",
        "outputId": "3aadfc06-6999-4473-f2e8-ddc1735fafd0"
      },
      "execution_count": null,
      "outputs": [
        {
          "output_type": "stream",
          "name": "stdout",
          "text": [
            "[0]\n"
          ]
        },
        {
          "output_type": "stream",
          "name": "stderr",
          "text": [
            "/usr/local/lib/python3.10/dist-packages/sklearn/neural_network/_multilayer_perceptron.py:686: ConvergenceWarning: Stochastic Optimizer: Maximum iterations (200) reached and the optimization hasn't converged yet.\n",
            "  warnings.warn(\n"
          ]
        }
      ]
    },
    {
      "cell_type": "code",
      "source": [
        "import numpy as np\n",
        "from matplotlib import pyplot as plt\n",
        "\n",
        "x=np.array(x_train)\n",
        "\n",
        "plt.scatter(x[:4,0],x[:4,1])\n",
        "plt.scatter(x[4:,0],x[4:,1])\n",
        "plt.show()"
      ],
      "metadata": {
        "colab": {
          "base_uri": "https://localhost:8080/",
          "height": 430
        },
        "id": "LPD-yYtYMT-b",
        "outputId": "ba06fa16-6929-4627-831d-8e8abc111c93"
      },
      "execution_count": null,
      "outputs": [
        {
          "output_type": "display_data",
          "data": {
            "text/plain": [
              "<Figure size 640x480 with 1 Axes>"
            ],
            "image/png": "[encoded data removed]"
          },
          "metadata": {}
        }
      ]
    },
    {
      "cell_type": "code",
      "source": [],
      "metadata": {
        "id": "iJWmOjY0SmP1"
      },
      "execution_count": null,
      "outputs": []
    }
  ]
}